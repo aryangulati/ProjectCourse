{
 "cells": [
  {
   "cell_type": "code",
   "execution_count": 1,
   "id": "7780ccc9-b7ce-4367-9e79-b3fc51bf9221",
   "metadata": {},
   "outputs": [],
   "source": [
    "import warnings\n",
    "warnings.filterwarnings(\"ignore\")\n",
    "import shutil\n",
    "import os\n",
    "import pandas as pd\n",
    "import matplotlib\n",
    "import matplotlib.pyplot as plt\n",
    "import seaborn as sns\n",
    "import numpy as np\n",
    "import pickle\n",
    "from sklearn.manifold import TSNE\n",
    "from sklearn import preprocessing\n",
    "import pandas as pd\n",
    "from multiprocessing import Process# this is used for multithreading\n",
    "import multiprocessing \n",
    "import random as r\n",
    "from xgboost import XGBClassifier\n",
    "from sklearn.model_selection import RandomizedSearchCV\n",
    "from sklearn.tree import DecisionTreeClassifier\n",
    "from sklearn.calibration import CalibratedClassifierCV\n",
    "from sklearn.neighbors import KNeighborsClassifier\n",
    "from sklearn.metrics import log_loss\n",
    "from sklearn.metrics import confusion_matrix\n",
    "from sklearn.model_selection import train_test_split\n",
    "from sklearn.linear_model import LogisticRegression\n",
    "from sklearn.ensemble import RandomForestClassifier\n",
    "from sklearn.cluster import MiniBatchKMeans"
   ]
  },
  {
   "cell_type": "code",
   "execution_count": 2,
   "id": "76596a99-c6e2-40fa-a241-09b48dc6f851",
   "metadata": {},
   "outputs": [],
   "source": [
    "features = ['duration','protocol_type','service','flag','src_bytes','dst_bytes','land','wrong_fragment','urgent','hot','num_failed_logins','logged_in','num_compromised','root_shell','su_attempted',\n",
    "'num_root','num_file_creations','num_shells','num_access_files','num_outbound_cmds',\n",
    "'is_host_login',\n",
    "'is_guest_login',\n",
    "'count',\n",
    "'srv_count',\n",
    "'serror_rate',\n",
    "'srv_serror_rate',\n",
    "'rerror_rate',\n",
    "'srv_rerror_rate',\n",
    "'same_srv_rate',\n",
    "'diff_srv_rate',\n",
    "'srv_diff_host_rate',\n",
    "'dst_host_count',\n",
    "'dst_host_srv_count',\n",
    "'dst_host_same_srv_rate',\n",
    "'dst_host_diff_srv_rate',\n",
    "'dst_host_same_src_port_rate',\n",
    "'dst_host_srv_diff_host_rate',\n",
    "'dst_host_serror_rate',\n",
    "'dst_host_srv_serror_rate',\n",
    "'dst_host_rerror_rate',\n",
    "'dst_host_srv_rerror_rate',\n",
    "'intrusion_type']"
   ]
  },
  {
   "cell_type": "code",
   "execution_count": 4,
   "id": "cdd40e27-73b1-41a7-8cc7-ad69c501bb25",
   "metadata": {},
   "outputs": [
    {
     "data": {
      "text/html": [
       "<div>\n",
       "<style scoped>\n",
       "    .dataframe tbody tr th:only-of-type {\n",
       "        vertical-align: middle;\n",
       "    }\n",
       "\n",
       "    .dataframe tbody tr th {\n",
       "        vertical-align: top;\n",
       "    }\n",
       "\n",
       "    .dataframe thead th {\n",
       "        text-align: right;\n",
       "    }\n",
       "</style>\n",
       "<table border=\"1\" class=\"dataframe\">\n",
       "  <thead>\n",
       "    <tr style=\"text-align: right;\">\n",
       "      <th></th>\n",
       "      <th>duration</th>\n",
       "      <th>protocol_type</th>\n",
       "      <th>service</th>\n",
       "      <th>flag</th>\n",
       "      <th>src_bytes</th>\n",
       "      <th>dst_bytes</th>\n",
       "      <th>land</th>\n",
       "      <th>wrong_fragment</th>\n",
       "      <th>urgent</th>\n",
       "      <th>hot</th>\n",
       "      <th>...</th>\n",
       "      <th>dst_host_srv_count</th>\n",
       "      <th>dst_host_same_srv_rate</th>\n",
       "      <th>dst_host_diff_srv_rate</th>\n",
       "      <th>dst_host_same_src_port_rate</th>\n",
       "      <th>dst_host_srv_diff_host_rate</th>\n",
       "      <th>dst_host_serror_rate</th>\n",
       "      <th>dst_host_srv_serror_rate</th>\n",
       "      <th>dst_host_rerror_rate</th>\n",
       "      <th>dst_host_srv_rerror_rate</th>\n",
       "      <th>intrusion_type</th>\n",
       "    </tr>\n",
       "  </thead>\n",
       "  <tbody>\n",
       "    <tr>\n",
       "      <th>0</th>\n",
       "      <td>0</td>\n",
       "      <td>tcp</td>\n",
       "      <td>http</td>\n",
       "      <td>SF</td>\n",
       "      <td>181</td>\n",
       "      <td>5450</td>\n",
       "      <td>0</td>\n",
       "      <td>0</td>\n",
       "      <td>0</td>\n",
       "      <td>0</td>\n",
       "      <td>...</td>\n",
       "      <td>9</td>\n",
       "      <td>1.0</td>\n",
       "      <td>0.0</td>\n",
       "      <td>0.11</td>\n",
       "      <td>0.0</td>\n",
       "      <td>0.0</td>\n",
       "      <td>0.0</td>\n",
       "      <td>0.0</td>\n",
       "      <td>0.0</td>\n",
       "      <td>normal.</td>\n",
       "    </tr>\n",
       "    <tr>\n",
       "      <th>1</th>\n",
       "      <td>0</td>\n",
       "      <td>tcp</td>\n",
       "      <td>http</td>\n",
       "      <td>SF</td>\n",
       "      <td>239</td>\n",
       "      <td>486</td>\n",
       "      <td>0</td>\n",
       "      <td>0</td>\n",
       "      <td>0</td>\n",
       "      <td>0</td>\n",
       "      <td>...</td>\n",
       "      <td>19</td>\n",
       "      <td>1.0</td>\n",
       "      <td>0.0</td>\n",
       "      <td>0.05</td>\n",
       "      <td>0.0</td>\n",
       "      <td>0.0</td>\n",
       "      <td>0.0</td>\n",
       "      <td>0.0</td>\n",
       "      <td>0.0</td>\n",
       "      <td>normal.</td>\n",
       "    </tr>\n",
       "    <tr>\n",
       "      <th>2</th>\n",
       "      <td>0</td>\n",
       "      <td>tcp</td>\n",
       "      <td>http</td>\n",
       "      <td>SF</td>\n",
       "      <td>235</td>\n",
       "      <td>1337</td>\n",
       "      <td>0</td>\n",
       "      <td>0</td>\n",
       "      <td>0</td>\n",
       "      <td>0</td>\n",
       "      <td>...</td>\n",
       "      <td>29</td>\n",
       "      <td>1.0</td>\n",
       "      <td>0.0</td>\n",
       "      <td>0.03</td>\n",
       "      <td>0.0</td>\n",
       "      <td>0.0</td>\n",
       "      <td>0.0</td>\n",
       "      <td>0.0</td>\n",
       "      <td>0.0</td>\n",
       "      <td>normal.</td>\n",
       "    </tr>\n",
       "    <tr>\n",
       "      <th>3</th>\n",
       "      <td>0</td>\n",
       "      <td>tcp</td>\n",
       "      <td>http</td>\n",
       "      <td>SF</td>\n",
       "      <td>219</td>\n",
       "      <td>1337</td>\n",
       "      <td>0</td>\n",
       "      <td>0</td>\n",
       "      <td>0</td>\n",
       "      <td>0</td>\n",
       "      <td>...</td>\n",
       "      <td>39</td>\n",
       "      <td>1.0</td>\n",
       "      <td>0.0</td>\n",
       "      <td>0.03</td>\n",
       "      <td>0.0</td>\n",
       "      <td>0.0</td>\n",
       "      <td>0.0</td>\n",
       "      <td>0.0</td>\n",
       "      <td>0.0</td>\n",
       "      <td>normal.</td>\n",
       "    </tr>\n",
       "    <tr>\n",
       "      <th>4</th>\n",
       "      <td>0</td>\n",
       "      <td>tcp</td>\n",
       "      <td>http</td>\n",
       "      <td>SF</td>\n",
       "      <td>217</td>\n",
       "      <td>2032</td>\n",
       "      <td>0</td>\n",
       "      <td>0</td>\n",
       "      <td>0</td>\n",
       "      <td>0</td>\n",
       "      <td>...</td>\n",
       "      <td>49</td>\n",
       "      <td>1.0</td>\n",
       "      <td>0.0</td>\n",
       "      <td>0.02</td>\n",
       "      <td>0.0</td>\n",
       "      <td>0.0</td>\n",
       "      <td>0.0</td>\n",
       "      <td>0.0</td>\n",
       "      <td>0.0</td>\n",
       "      <td>normal.</td>\n",
       "    </tr>\n",
       "  </tbody>\n",
       "</table>\n",
       "<p>5 rows × 42 columns</p>\n",
       "</div>"
      ],
      "text/plain": [
       "   duration protocol_type service flag  src_bytes  dst_bytes  land  \\\n",
       "0         0           tcp    http   SF        181       5450     0   \n",
       "1         0           tcp    http   SF        239        486     0   \n",
       "2         0           tcp    http   SF        235       1337     0   \n",
       "3         0           tcp    http   SF        219       1337     0   \n",
       "4         0           tcp    http   SF        217       2032     0   \n",
       "\n",
       "   wrong_fragment  urgent  hot  ...  dst_host_srv_count  \\\n",
       "0               0       0    0  ...                   9   \n",
       "1               0       0    0  ...                  19   \n",
       "2               0       0    0  ...                  29   \n",
       "3               0       0    0  ...                  39   \n",
       "4               0       0    0  ...                  49   \n",
       "\n",
       "   dst_host_same_srv_rate  dst_host_diff_srv_rate  \\\n",
       "0                     1.0                     0.0   \n",
       "1                     1.0                     0.0   \n",
       "2                     1.0                     0.0   \n",
       "3                     1.0                     0.0   \n",
       "4                     1.0                     0.0   \n",
       "\n",
       "   dst_host_same_src_port_rate  dst_host_srv_diff_host_rate  \\\n",
       "0                         0.11                          0.0   \n",
       "1                         0.05                          0.0   \n",
       "2                         0.03                          0.0   \n",
       "3                         0.03                          0.0   \n",
       "4                         0.02                          0.0   \n",
       "\n",
       "   dst_host_serror_rate  dst_host_srv_serror_rate  dst_host_rerror_rate  \\\n",
       "0                   0.0                       0.0                   0.0   \n",
       "1                   0.0                       0.0                   0.0   \n",
       "2                   0.0                       0.0                   0.0   \n",
       "3                   0.0                       0.0                   0.0   \n",
       "4                   0.0                       0.0                   0.0   \n",
       "\n",
       "   dst_host_srv_rerror_rate  intrusion_type  \n",
       "0                       0.0         normal.  \n",
       "1                       0.0         normal.  \n",
       "2                       0.0         normal.  \n",
       "3                       0.0         normal.  \n",
       "4                       0.0         normal.  \n",
       "\n",
       "[5 rows x 42 columns]"
      ]
     },
     "execution_count": 4,
     "metadata": {},
     "output_type": "execute_result"
    }
   ],
   "source": [
    "data = pd.read_csv('kddcup.data_10_percent_corrected', names=features, header=None)\n",
    "data.head()"
   ]
  },
  {
   "cell_type": "code",
   "execution_count": 5,
   "id": "77cdb51f-c3e9-476f-8cea-98d15bc2174f",
   "metadata": {},
   "outputs": [
    {
     "name": "stdout",
     "output_type": "stream",
     "text": [
      "The no of data points are: 494021\n",
      "========================================\n",
      "The no of features are: 42\n",
      "========================================\n",
      "Some of the features are: ['duration', 'protocol_type', 'service', 'flag', 'src_bytes', 'dst_bytes', 'land', 'wrong_fragment', 'urgent', 'hot']\n"
     ]
    }
   ],
   "source": [
    "print('The no of data points are:',data.shape[0])\n",
    "print('='*40)\n",
    "print('The no of features are:',data.shape[1])\n",
    "print('='*40)\n",
    "print('Some of the features are:',features[:10])"
   ]
  },
  {
   "cell_type": "code",
   "execution_count": 6,
   "id": "f2c54ef5-f887-4f74-b504-7631f5d2ca01",
   "metadata": {},
   "outputs": [],
   "source": [
    "output = data['intrusion_type'].values\n",
    "labels = set(output)"
   ]
  },
  {
   "cell_type": "code",
   "execution_count": 7,
   "id": "ca7b3565-0a94-42ea-968a-71ed2327e522",
   "metadata": {},
   "outputs": [
    {
     "name": "stdout",
     "output_type": "stream",
     "text": [
      "The different type of output labels are: {'multihop.', 'normal.', 'perl.', 'warezmaster.', 'smurf.', 'teardrop.', 'imap.', 'neptune.', 'back.', 'nmap.', 'buffer_overflow.', 'phf.', 'land.', 'ftp_write.', 'warezclient.', 'spy.', 'ipsweep.', 'guess_passwd.', 'loadmodule.', 'rootkit.', 'portsweep.', 'pod.', 'satan.'}\n",
      "====================================================================================================\n",
      "No. of different output labels are: 23\n"
     ]
    }
   ],
   "source": [
    "print('The different type of output labels are:',labels)\n",
    "print('='*100)\n",
    "print('No. of different output labels are:', len(labels))"
   ]
  },
  {
   "cell_type": "code",
   "execution_count": 9,
   "id": "5027cedb-2b50-445d-8b13-fe0e5a624ace",
   "metadata": {},
   "outputs": [],
   "source": [
    "duplicateRowsDF = data[data.duplicated()]"
   ]
  },
  {
   "cell_type": "code",
   "execution_count": 10,
   "id": "40e59880-2250-4a1f-83e4-5d703c9d1593",
   "metadata": {},
   "outputs": [
    {
     "data": {
      "text/html": [
       "<div>\n",
       "<style scoped>\n",
       "    .dataframe tbody tr th:only-of-type {\n",
       "        vertical-align: middle;\n",
       "    }\n",
       "\n",
       "    .dataframe tbody tr th {\n",
       "        vertical-align: top;\n",
       "    }\n",
       "\n",
       "    .dataframe thead th {\n",
       "        text-align: right;\n",
       "    }\n",
       "</style>\n",
       "<table border=\"1\" class=\"dataframe\">\n",
       "  <thead>\n",
       "    <tr style=\"text-align: right;\">\n",
       "      <th></th>\n",
       "      <th>duration</th>\n",
       "      <th>protocol_type</th>\n",
       "      <th>service</th>\n",
       "      <th>flag</th>\n",
       "      <th>src_bytes</th>\n",
       "      <th>dst_bytes</th>\n",
       "      <th>land</th>\n",
       "      <th>wrong_fragment</th>\n",
       "      <th>urgent</th>\n",
       "      <th>hot</th>\n",
       "      <th>...</th>\n",
       "      <th>dst_host_srv_count</th>\n",
       "      <th>dst_host_same_srv_rate</th>\n",
       "      <th>dst_host_diff_srv_rate</th>\n",
       "      <th>dst_host_same_src_port_rate</th>\n",
       "      <th>dst_host_srv_diff_host_rate</th>\n",
       "      <th>dst_host_serror_rate</th>\n",
       "      <th>dst_host_srv_serror_rate</th>\n",
       "      <th>dst_host_rerror_rate</th>\n",
       "      <th>dst_host_srv_rerror_rate</th>\n",
       "      <th>intrusion_type</th>\n",
       "    </tr>\n",
       "  </thead>\n",
       "  <tbody>\n",
       "    <tr>\n",
       "      <th>2500</th>\n",
       "      <td>0</td>\n",
       "      <td>tcp</td>\n",
       "      <td>http</td>\n",
       "      <td>SF</td>\n",
       "      <td>307</td>\n",
       "      <td>60990</td>\n",
       "      <td>0</td>\n",
       "      <td>0</td>\n",
       "      <td>0</td>\n",
       "      <td>0</td>\n",
       "      <td>...</td>\n",
       "      <td>255</td>\n",
       "      <td>1.0</td>\n",
       "      <td>0.0</td>\n",
       "      <td>0.0</td>\n",
       "      <td>0.0</td>\n",
       "      <td>0.0</td>\n",
       "      <td>0.0</td>\n",
       "      <td>0.0</td>\n",
       "      <td>0.0</td>\n",
       "      <td>normal.</td>\n",
       "    </tr>\n",
       "    <tr>\n",
       "      <th>2864</th>\n",
       "      <td>0</td>\n",
       "      <td>tcp</td>\n",
       "      <td>http</td>\n",
       "      <td>SF</td>\n",
       "      <td>351</td>\n",
       "      <td>11485</td>\n",
       "      <td>0</td>\n",
       "      <td>0</td>\n",
       "      <td>0</td>\n",
       "      <td>0</td>\n",
       "      <td>...</td>\n",
       "      <td>255</td>\n",
       "      <td>1.0</td>\n",
       "      <td>0.0</td>\n",
       "      <td>0.0</td>\n",
       "      <td>0.0</td>\n",
       "      <td>0.0</td>\n",
       "      <td>0.0</td>\n",
       "      <td>0.0</td>\n",
       "      <td>0.0</td>\n",
       "      <td>normal.</td>\n",
       "    </tr>\n",
       "    <tr>\n",
       "      <th>2977</th>\n",
       "      <td>0</td>\n",
       "      <td>tcp</td>\n",
       "      <td>http</td>\n",
       "      <td>SF</td>\n",
       "      <td>506</td>\n",
       "      <td>2419</td>\n",
       "      <td>0</td>\n",
       "      <td>0</td>\n",
       "      <td>0</td>\n",
       "      <td>0</td>\n",
       "      <td>...</td>\n",
       "      <td>255</td>\n",
       "      <td>1.0</td>\n",
       "      <td>0.0</td>\n",
       "      <td>0.0</td>\n",
       "      <td>0.0</td>\n",
       "      <td>0.0</td>\n",
       "      <td>0.0</td>\n",
       "      <td>0.0</td>\n",
       "      <td>0.0</td>\n",
       "      <td>normal.</td>\n",
       "    </tr>\n",
       "    <tr>\n",
       "      <th>3003</th>\n",
       "      <td>0</td>\n",
       "      <td>tcp</td>\n",
       "      <td>http</td>\n",
       "      <td>SF</td>\n",
       "      <td>319</td>\n",
       "      <td>1374</td>\n",
       "      <td>0</td>\n",
       "      <td>0</td>\n",
       "      <td>0</td>\n",
       "      <td>0</td>\n",
       "      <td>...</td>\n",
       "      <td>255</td>\n",
       "      <td>1.0</td>\n",
       "      <td>0.0</td>\n",
       "      <td>0.0</td>\n",
       "      <td>0.0</td>\n",
       "      <td>0.0</td>\n",
       "      <td>0.0</td>\n",
       "      <td>0.0</td>\n",
       "      <td>0.0</td>\n",
       "      <td>normal.</td>\n",
       "    </tr>\n",
       "    <tr>\n",
       "      <th>3130</th>\n",
       "      <td>0</td>\n",
       "      <td>tcp</td>\n",
       "      <td>http</td>\n",
       "      <td>SF</td>\n",
       "      <td>234</td>\n",
       "      <td>1212</td>\n",
       "      <td>0</td>\n",
       "      <td>0</td>\n",
       "      <td>0</td>\n",
       "      <td>0</td>\n",
       "      <td>...</td>\n",
       "      <td>255</td>\n",
       "      <td>1.0</td>\n",
       "      <td>0.0</td>\n",
       "      <td>0.0</td>\n",
       "      <td>0.0</td>\n",
       "      <td>0.0</td>\n",
       "      <td>0.0</td>\n",
       "      <td>0.0</td>\n",
       "      <td>0.0</td>\n",
       "      <td>normal.</td>\n",
       "    </tr>\n",
       "  </tbody>\n",
       "</table>\n",
       "<p>5 rows × 42 columns</p>\n",
       "</div>"
      ],
      "text/plain": [
       "      duration protocol_type service flag  src_bytes  dst_bytes  land  \\\n",
       "2500         0           tcp    http   SF        307      60990     0   \n",
       "2864         0           tcp    http   SF        351      11485     0   \n",
       "2977         0           tcp    http   SF        506       2419     0   \n",
       "3003         0           tcp    http   SF        319       1374     0   \n",
       "3130         0           tcp    http   SF        234       1212     0   \n",
       "\n",
       "      wrong_fragment  urgent  hot  ...  dst_host_srv_count  \\\n",
       "2500               0       0    0  ...                 255   \n",
       "2864               0       0    0  ...                 255   \n",
       "2977               0       0    0  ...                 255   \n",
       "3003               0       0    0  ...                 255   \n",
       "3130               0       0    0  ...                 255   \n",
       "\n",
       "      dst_host_same_srv_rate  dst_host_diff_srv_rate  \\\n",
       "2500                     1.0                     0.0   \n",
       "2864                     1.0                     0.0   \n",
       "2977                     1.0                     0.0   \n",
       "3003                     1.0                     0.0   \n",
       "3130                     1.0                     0.0   \n",
       "\n",
       "      dst_host_same_src_port_rate  dst_host_srv_diff_host_rate  \\\n",
       "2500                          0.0                          0.0   \n",
       "2864                          0.0                          0.0   \n",
       "2977                          0.0                          0.0   \n",
       "3003                          0.0                          0.0   \n",
       "3130                          0.0                          0.0   \n",
       "\n",
       "      dst_host_serror_rate  dst_host_srv_serror_rate  dst_host_rerror_rate  \\\n",
       "2500                   0.0                       0.0                   0.0   \n",
       "2864                   0.0                       0.0                   0.0   \n",
       "2977                   0.0                       0.0                   0.0   \n",
       "3003                   0.0                       0.0                   0.0   \n",
       "3130                   0.0                       0.0                   0.0   \n",
       "\n",
       "      dst_host_srv_rerror_rate  intrusion_type  \n",
       "2500                       0.0         normal.  \n",
       "2864                       0.0         normal.  \n",
       "2977                       0.0         normal.  \n",
       "3003                       0.0         normal.  \n",
       "3130                       0.0         normal.  \n",
       "\n",
       "[5 rows x 42 columns]"
      ]
     },
     "execution_count": 10,
     "metadata": {},
     "output_type": "execute_result"
    }
   ],
   "source": [
    "duplicateRowsDF.head(5)"
   ]
  },
  {
   "cell_type": "code",
   "execution_count": 11,
   "id": "05d9e7d4-c6a3-48be-9ecb-9438f4d65d7e",
   "metadata": {},
   "outputs": [
    {
     "data": {
      "text/plain": [
       "(145586, 42)"
      ]
     },
     "execution_count": 11,
     "metadata": {},
     "output_type": "execute_result"
    }
   ],
   "source": [
    "data.drop_duplicates(subset=features, keep='first', inplace=True)\n",
    "data.shape"
   ]
  },
  {
   "cell_type": "code",
   "execution_count": 12,
   "id": "525a2729-2013-48c1-a842-c6070990e18d",
   "metadata": {},
   "outputs": [],
   "source": [
    "data.to_pickle('data.pkl')\n",
    "data = pd.read_pickle('data.pkl')"
   ]
  },
  {
   "cell_type": "code",
   "execution_count": 13,
   "id": "f8ab46e1-fabd-4ef9-a423-bd3b56caf97e",
   "metadata": {},
   "outputs": [],
   "source": [
    "from sklearn.model_selection import train_test_split\n",
    "X_train, X_test, Y_train, Y_test = train_test_split(data.drop('intrusion_type', axis=1), data['intrusion_type'], stratify=data['intrusion_type'], test_size=0.25)"
   ]
  },
  {
   "cell_type": "code",
   "execution_count": 14,
   "id": "aaec4071-a7b3-42b3-898a-1e7a9edaff93",
   "metadata": {},
   "outputs": [
    {
     "name": "stdout",
     "output_type": "stream",
     "text": [
      "Train data\n",
      "(109189, 41)\n",
      "(109189,)\n",
      "====================\n",
      "Test data\n",
      "(36397, 41)\n",
      "(36397,)\n"
     ]
    }
   ],
   "source": [
    "print('Train data')\n",
    "print(X_train.shape)\n",
    "print(Y_train.shape)\n",
    "print('='*20)\n",
    "print('Test data')\n",
    "print(X_test.shape)\n",
    "print(Y_test.shape)"
   ]
  },
  {
   "cell_type": "code",
   "execution_count": 15,
   "id": "c51e11ee-d3f3-4037-a904-2d26fcd88439",
   "metadata": {},
   "outputs": [
    {
     "name": "stdout",
     "output_type": "stream",
     "text": [
      "Protocol types are: ['tcp', 'udp', 'icmp']\n"
     ]
    }
   ],
   "source": [
    "protocol = list(X_train['protocol_type'].values)\n",
    "protocol = list(set(protocol))\n",
    "print('Protocol types are:', protocol)"
   ]
  },
  {
   "cell_type": "code",
   "execution_count": 16,
   "id": "ec5414c4-3eb1-451c-995b-898e910f0347",
   "metadata": {},
   "outputs": [],
   "source": [
    "from sklearn.feature_extraction.text import CountVectorizer\n",
    "one_hot = CountVectorizer(vocabulary=protocol, binary=True)\n",
    "train_protocol = one_hot.fit_transform(X_train['protocol_type'].values)\n",
    "test_protocol = one_hot.transform(X_test['protocol_type'].values)"
   ]
  },
  {
   "cell_type": "code",
   "execution_count": 17,
   "id": "e4711a4d-05a8-4922-a66f-f532d537ce77",
   "metadata": {},
   "outputs": [
    {
     "name": "stdout",
     "output_type": "stream",
     "text": [
      "[[1 0 0]]\n"
     ]
    },
    {
     "data": {
      "text/plain": [
       "(109189, 3)"
      ]
     },
     "execution_count": 17,
     "metadata": {},
     "output_type": "execute_result"
    }
   ],
   "source": [
    "print(train_protocol[1].toarray())\n",
    "train_protocol.shape"
   ]
  },
  {
   "cell_type": "code",
   "execution_count": 18,
   "id": "b22828cc-f6be-4043-8bd0-fa1c4de49b08",
   "metadata": {},
   "outputs": [
    {
     "name": "stdout",
     "output_type": "stream",
     "text": [
      "Service types are:\n",
      " ['auth', 'pop_2', 'bgp', 'tim_i', 'uucp', 'klogin', 'ftp_data', 'supdup', 'kshell', 'http', 'sunrpc', 'name', 'urp_i', 'ntp_u', 'smtp', 'uucp_path', 'remote_job', 'daytime', 'pop_3', 'csnet_ns', 'urh_i', 'discard', 'echo', 'eco_i', 'ssh', 'ldap', 'telnet', 'gopher', 'netbios_ssn', 'http_443', 'netbios_dgm', 'nnsp', 'netbios_ns', 'shell', 'printer', 'courier', 'ftp', 'link', 'rje', 'mtp', 'login', 'X11', 'efs', 'ecr_i', 'domain', 'domain_u', 'vmnet', 'ctf', 'iso_tsap', 'sql_net', 'hostnames', 'time', 'Z39_50', 'whois', 'private', 'systat', 'nntp', 'IRC', 'netstat', 'imap4', 'other', 'exec', 'finger']\n"
     ]
    }
   ],
   "source": [
    "service = list(X_train['service'].values)\n",
    "service = list(set(service))\n",
    "print('Service types are:\\n', service)"
   ]
  },
  {
   "cell_type": "code",
   "execution_count": 19,
   "id": "c22375a2-4e74-4485-9f8d-3a7af5c9cc32",
   "metadata": {},
   "outputs": [],
   "source": [
    "from sklearn.feature_extraction.text import CountVectorizer\n",
    "one_hot = CountVectorizer(vocabulary=service, binary=True)\n",
    "train_service = one_hot.fit_transform(X_train['service'].values)\n",
    "test_service = one_hot.transform(X_test['service'].values)"
   ]
  },
  {
   "cell_type": "code",
   "execution_count": 20,
   "id": "9963f05b-461e-4607-8c29-a748d8224f48",
   "metadata": {},
   "outputs": [
    {
     "name": "stdout",
     "output_type": "stream",
     "text": [
      "[[0 0 0 0 0 0 0 0 0 0 0 0 0 0 0 0 0 0 0 0 0 0 0 0 0 0 0 0 0 0 0 0 0 0 0 0\n",
      "  0 0 0 0 0 0 0 0 0 0 0 0 0 0 0 0 0 0 1 0 0 0 0 0 0 0 0]]\n"
     ]
    }
   ],
   "source": [
    "print(train_service[100].toarray())"
   ]
  },
  {
   "cell_type": "code",
   "execution_count": 21,
   "id": "e0529212-95e4-4bb4-8d05-7927bbb649b9",
   "metadata": {},
   "outputs": [
    {
     "data": {
      "text/plain": [
       "(109189, 63)"
      ]
     },
     "execution_count": 21,
     "metadata": {},
     "output_type": "execute_result"
    }
   ],
   "source": [
    "train_service.shape"
   ]
  },
  {
   "cell_type": "code",
   "execution_count": 22,
   "id": "fd623f16-2c18-43c3-b1ec-f9a6e40c1f33",
   "metadata": {},
   "outputs": [
    {
     "name": "stdout",
     "output_type": "stream",
     "text": [
      "flag types are: ['S2', 'REJ', 'RSTOS0', 'OTH', 'S3', 'RSTO', 'SH', 'S1', 'S0', 'RSTR', 'SF']\n"
     ]
    }
   ],
   "source": [
    "flag = list(X_train['flag'].values)\n",
    "flag = list(set(flag))\n",
    "print('flag types are:', flag)"
   ]
  },
  {
   "cell_type": "code",
   "execution_count": 23,
   "id": "2f0cabc0-5f74-4c79-8dd0-4e4a1460ec56",
   "metadata": {},
   "outputs": [],
   "source": [
    "from sklearn.feature_extraction.text import CountVectorizer\n",
    "one_hot = CountVectorizer(binary=True)\n",
    "one_hot.fit(X_train['flag'].values)\n",
    "train_flag = one_hot.transform(X_train['flag'].values)\n",
    "test_flag = one_hot.transform(X_test['flag'].values)"
   ]
  },
  {
   "cell_type": "code",
   "execution_count": 24,
   "id": "3c833403-a8de-4ced-b5cc-24e14157445f",
   "metadata": {},
   "outputs": [
    {
     "name": "stdout",
     "output_type": "stream",
     "text": [
      "[[0 0 0 0 0 0 0 0 0 1 0]]\n"
     ]
    },
    {
     "data": {
      "text/plain": [
       "(109189, 11)"
      ]
     },
     "execution_count": 24,
     "metadata": {},
     "output_type": "execute_result"
    }
   ],
   "source": [
    "print(test_flag[3000].toarray())\n",
    "train_flag.shape"
   ]
  },
  {
   "cell_type": "code",
   "execution_count": 25,
   "id": "4b0da620-2ba8-4ce2-935b-59d7ed26c1a0",
   "metadata": {},
   "outputs": [],
   "source": [
    "X_train.drop(['protocol_type','service','flag'], axis=1, inplace=True)\n",
    "X_test.drop(['protocol_type','service','flag'], axis=1, inplace=True)"
   ]
  },
  {
   "cell_type": "code",
   "execution_count": 26,
   "id": "22962012-c665-4db1-887c-fb7773814a66",
   "metadata": {},
   "outputs": [],
   "source": [
    "def feature_scaling(X_train, X_test, feature_name):\n",
    "    \n",
    "    '''\n",
    "    This function performs standardisation on the features\n",
    "    '''\n",
    "    \n",
    "    from sklearn.preprocessing import StandardScaler\n",
    "\n",
    "    scaler = StandardScaler()\n",
    "    scaler1 = scaler.fit_transform(X_train[feature_name].values.reshape(-1,1))\n",
    "    scaler2 = scaler.transform(X_test[feature_name].values.reshape(-1,1))\n",
    "    \n",
    "    return scaler1, scaler2"
   ]
  },
  {
   "cell_type": "code",
   "execution_count": 27,
   "id": "0b1d4111-c54b-4e0f-bd8f-6f09ef06431e",
   "metadata": {},
   "outputs": [],
   "source": [
    "duration1, duration2 = feature_scaling(X_train, X_test, 'duration')"
   ]
  },
  {
   "cell_type": "code",
   "execution_count": 28,
   "id": "b2d1cbd4-9fe0-4754-9228-e7780a076bb3",
   "metadata": {},
   "outputs": [
    {
     "name": "stdout",
     "output_type": "stream",
     "text": [
      "[-0.10910614]\n"
     ]
    }
   ],
   "source": [
    "print(duration1[1])"
   ]
  },
  {
   "cell_type": "code",
   "execution_count": 29,
   "id": "b79f1e9a-5077-49ee-beb8-746a7e495370",
   "metadata": {},
   "outputs": [],
   "source": [
    "src_bytes1, src_bytes2 = feature_scaling(X_train, X_test, 'src_bytes')"
   ]
  },
  {
   "cell_type": "code",
   "execution_count": 30,
   "id": "5b19efd1-098d-4780-b148-7a17934883b1",
   "metadata": {},
   "outputs": [
    {
     "name": "stdout",
     "output_type": "stream",
     "text": [
      "[-0.00427531]\n"
     ]
    }
   ],
   "source": [
    "print(src_bytes1[1])"
   ]
  },
  {
   "cell_type": "code",
   "execution_count": 31,
   "id": "497f71be-4588-4c7a-b35b-e698ceb21382",
   "metadata": {},
   "outputs": [],
   "source": [
    "dst_bytes1, dst_bytes2 = feature_scaling(X_train, X_test, 'dst_bytes')"
   ]
  },
  {
   "cell_type": "code",
   "execution_count": 32,
   "id": "f2db6f45-08b9-4090-8862-80c20ac8a68d",
   "metadata": {},
   "outputs": [
    {
     "name": "stdout",
     "output_type": "stream",
     "text": [
      "[-0.01498087]\n"
     ]
    }
   ],
   "source": [
    "print(dst_bytes1[1])"
   ]
  },
  {
   "cell_type": "code",
   "execution_count": 33,
   "id": "2969b479-4263-41bf-842b-b7794e497851",
   "metadata": {},
   "outputs": [],
   "source": [
    "wrong_fragment1, wrong_fragment2 = feature_scaling(X_train, X_test, 'wrong_fragment')"
   ]
  },
  {
   "cell_type": "code",
   "execution_count": 34,
   "id": "fad14d5e-3105-4dec-a1a4-678a7071acea",
   "metadata": {},
   "outputs": [
    {
     "name": "stdout",
     "output_type": "stream",
     "text": [
      "[-0.08439045]\n"
     ]
    }
   ],
   "source": [
    "print(wrong_fragment1[1])"
   ]
  },
  {
   "cell_type": "code",
   "execution_count": 35,
   "id": "008e34e7-937d-4e89-8d6a-59e0b70458dc",
   "metadata": {},
   "outputs": [],
   "source": [
    "urgent1, urgent2 = feature_scaling(X_train, X_test, 'urgent')"
   ]
  },
  {
   "cell_type": "code",
   "execution_count": 36,
   "id": "c71b26c9-5d1f-4074-89ae-7162ba46d336",
   "metadata": {},
   "outputs": [
    {
     "name": "stdout",
     "output_type": "stream",
     "text": [
      "[-0.00546978]\n"
     ]
    }
   ],
   "source": [
    "print(urgent1[1])"
   ]
  },
  {
   "cell_type": "code",
   "execution_count": 37,
   "id": "1d2fccfe-2da4-4168-ad25-fd3e2fccb57c",
   "metadata": {},
   "outputs": [],
   "source": [
    "hot1, hot2 = feature_scaling(X_train, X_test, 'hot')"
   ]
  },
  {
   "cell_type": "code",
   "execution_count": 38,
   "id": "58344915-8525-4d29-958b-f3b4e8d43e18",
   "metadata": {},
   "outputs": [
    {
     "name": "stdout",
     "output_type": "stream",
     "text": [
      "[-0.07069875]\n"
     ]
    }
   ],
   "source": [
    "print(hot1[1])"
   ]
  },
  {
   "cell_type": "code",
   "execution_count": 39,
   "id": "7f927040-0dfa-47dc-8fe1-e01660b27c0b",
   "metadata": {},
   "outputs": [],
   "source": [
    "num_failed_logins1, num_failed_logins2 = feature_scaling(X_train, X_test, 'num_failed_logins')"
   ]
  },
  {
   "cell_type": "code",
   "execution_count": 40,
   "id": "6535d85b-ada1-4617-89a9-6f877140728c",
   "metadata": {},
   "outputs": [
    {
     "name": "stdout",
     "output_type": "stream",
     "text": [
      "[-0.01805418]\n"
     ]
    }
   ],
   "source": [
    "print(num_failed_logins1[1])"
   ]
  },
  {
   "cell_type": "code",
   "execution_count": 41,
   "id": "a58f19c1-5a35-48b3-95a9-3e42be1b5b2e",
   "metadata": {},
   "outputs": [],
   "source": [
    "num_compromised1, num_compromised2 = feature_scaling(X_train, X_test, 'num_compromised')"
   ]
  },
  {
   "cell_type": "code",
   "execution_count": 42,
   "id": "d6ad5324-38cc-4683-a9a7-43f0db846110",
   "metadata": {},
   "outputs": [
    {
     "data": {
      "text/plain": [
       "array([-0.00774397])"
      ]
     },
     "execution_count": 42,
     "metadata": {},
     "output_type": "execute_result"
    }
   ],
   "source": [
    "num_compromised1[1]"
   ]
  },
  {
   "cell_type": "code",
   "execution_count": 43,
   "id": "390e7aca-553c-4867-9c5b-9cf5984eea4b",
   "metadata": {},
   "outputs": [],
   "source": [
    "root_shell1, root_shell2 = feature_scaling(X_train, X_test, 'root_shell')"
   ]
  },
  {
   "cell_type": "code",
   "execution_count": 44,
   "id": "a3a9c422-5bd1-4ff1-88e1-7832163a51dc",
   "metadata": {},
   "outputs": [
    {
     "data": {
      "text/plain": [
       "array([-0.01890255])"
      ]
     },
     "execution_count": 44,
     "metadata": {},
     "output_type": "execute_result"
    }
   ],
   "source": [
    "root_shell1[1]"
   ]
  },
  {
   "cell_type": "code",
   "execution_count": 45,
   "id": "6be81ebc-27ed-4d45-a937-9c99f499041c",
   "metadata": {},
   "outputs": [],
   "source": [
    "su_attempted1, su_attempted2 = feature_scaling(X_train, X_test, 'su_attempted')"
   ]
  },
  {
   "cell_type": "code",
   "execution_count": 46,
   "id": "7f1047e1-d035-480b-96cf-274fe470ee9c",
   "metadata": {},
   "outputs": [
    {
     "data": {
      "text/plain": [
       "array([-0.00647062])"
      ]
     },
     "execution_count": 46,
     "metadata": {},
     "output_type": "execute_result"
    }
   ],
   "source": [
    "su_attempted1[1]"
   ]
  },
  {
   "cell_type": "code",
   "execution_count": 47,
   "id": "a59cd78f-b1a9-4fd4-9280-4bb4eb6ed4da",
   "metadata": {},
   "outputs": [],
   "source": [
    "num_root1, num_root2 = feature_scaling(X_train, X_test, 'num_root')"
   ]
  },
  {
   "cell_type": "code",
   "execution_count": 48,
   "id": "c69116c2-3069-4ae4-b227-c0a3205ec508",
   "metadata": {},
   "outputs": [
    {
     "data": {
      "text/plain": [
       "array([-0.00993182])"
      ]
     },
     "execution_count": 48,
     "metadata": {},
     "output_type": "execute_result"
    }
   ],
   "source": [
    "num_root1[1]"
   ]
  },
  {
   "cell_type": "code",
   "execution_count": 49,
   "id": "038d0a9a-4735-4a43-838e-09d568d9d099",
   "metadata": {},
   "outputs": [],
   "source": [
    "num_file_creations1, num_file_creations2 = feature_scaling(X_train, X_test, 'num_file_creations')"
   ]
  },
  {
   "cell_type": "code",
   "execution_count": 50,
   "id": "63f4ded8-c8f4-40c5-971d-e55507cd1c81",
   "metadata": {},
   "outputs": [
    {
     "data": {
      "text/plain": [
       "array([-0.02129663])"
      ]
     },
     "execution_count": 50,
     "metadata": {},
     "output_type": "execute_result"
    }
   ],
   "source": [
    "num_file_creations1[1]"
   ]
  },
  {
   "cell_type": "code",
   "execution_count": 51,
   "id": "c2c7df60-4105-453f-92ea-de2fe6d8f3d0",
   "metadata": {},
   "outputs": [],
   "source": [
    "num_shells1, num_shells2 = feature_scaling(X_train, X_test, 'num_shells')"
   ]
  },
  {
   "cell_type": "code",
   "execution_count": 52,
   "id": "f2fcf024-e533-4b45-96d4-609da17465fa",
   "metadata": {},
   "outputs": [
    {
     "data": {
      "text/plain": [
       "array([-0.01859328])"
      ]
     },
     "execution_count": 52,
     "metadata": {},
     "output_type": "execute_result"
    }
   ],
   "source": [
    "num_shells1[1]"
   ]
  },
  {
   "cell_type": "code",
   "execution_count": 53,
   "id": "724434fe-32a4-435a-93fa-79c6e753c56f",
   "metadata": {},
   "outputs": [],
   "source": [
    "num_access_files1, num_access_files2 = feature_scaling(X_train, X_test, 'num_access_files')"
   ]
  },
  {
   "cell_type": "code",
   "execution_count": 54,
   "id": "84c71095-bc06-4628-a44d-626186f7168d",
   "metadata": {},
   "outputs": [
    {
     "data": {
      "text/plain": [
       "array([-0.04966817])"
      ]
     },
     "execution_count": 54,
     "metadata": {},
     "output_type": "execute_result"
    }
   ],
   "source": [
    "num_access_files1[1]"
   ]
  },
  {
   "cell_type": "code",
   "execution_count": 55,
   "id": "d6880370-203f-472d-afd3-8869f8602341",
   "metadata": {},
   "outputs": [
    {
     "data": {
      "text/plain": [
       "num_outbound_cmds\n",
       "0    145586\n",
       "Name: count, dtype: int64"
      ]
     },
     "execution_count": 55,
     "metadata": {},
     "output_type": "execute_result"
    }
   ],
   "source": [
    "data['num_outbound_cmds'].value_counts()"
   ]
  },
  {
   "cell_type": "code",
   "execution_count": 56,
   "id": "5d54bf67-d695-407a-8b6c-b50473be4e26",
   "metadata": {},
   "outputs": [],
   "source": [
    "srv_count1, srv_count2 = feature_scaling(X_train, X_test, 'srv_count')"
   ]
  },
  {
   "cell_type": "code",
   "execution_count": 57,
   "id": "53931b81-c56f-403f-877c-386ac0eb2b2e",
   "metadata": {},
   "outputs": [
    {
     "data": {
      "text/plain": [
       "array([-0.32568762])"
      ]
     },
     "execution_count": 57,
     "metadata": {},
     "output_type": "execute_result"
    }
   ],
   "source": [
    "srv_count1[1]"
   ]
  },
  {
   "cell_type": "code",
   "execution_count": 58,
   "id": "33d2311f-93cd-4236-8f9a-9f0bbccef015",
   "metadata": {},
   "outputs": [],
   "source": [
    "serror_rate1, serror_rate2 = feature_scaling(X_train, X_test, 'serror_rate')"
   ]
  },
  {
   "cell_type": "code",
   "execution_count": 59,
   "id": "a039485b-2409-4638-9b05-90d202b1c90e",
   "metadata": {},
   "outputs": [
    {
     "data": {
      "text/plain": [
       "array([-0.64443784])"
      ]
     },
     "execution_count": 59,
     "metadata": {},
     "output_type": "execute_result"
    }
   ],
   "source": [
    "serror_rate1[1]"
   ]
  },
  {
   "cell_type": "code",
   "execution_count": 60,
   "id": "a0d005ae-8564-4a2f-a1f6-8c27b9af7c52",
   "metadata": {},
   "outputs": [],
   "source": [
    "srv_serror_rate1, srv_serror_rate2 = feature_scaling(X_train, X_test, 'srv_serror_rate')"
   ]
  },
  {
   "cell_type": "code",
   "execution_count": 61,
   "id": "4b8d6d9d-b40b-4124-b49c-d3a47620cf40",
   "metadata": {},
   "outputs": [
    {
     "data": {
      "text/plain": [
       "array([-0.64385987])"
      ]
     },
     "execution_count": 61,
     "metadata": {},
     "output_type": "execute_result"
    }
   ],
   "source": [
    "srv_serror_rate1[1]"
   ]
  },
  {
   "cell_type": "code",
   "execution_count": 62,
   "id": "20f4e710-f60d-424d-9649-dec59306f9c3",
   "metadata": {},
   "outputs": [],
   "source": [
    "rerror_rate1, rerror_rate2 = feature_scaling(X_train, X_test, 'rerror_rate')"
   ]
  },
  {
   "cell_type": "code",
   "execution_count": 63,
   "id": "a25ff0b5-146a-41ff-ad18-adf8112a4dce",
   "metadata": {},
   "outputs": [
    {
     "data": {
      "text/plain": [
       "array([-0.35002801])"
      ]
     },
     "execution_count": 63,
     "metadata": {},
     "output_type": "execute_result"
    }
   ],
   "source": [
    "rerror_rate1[1]"
   ]
  },
  {
   "cell_type": "code",
   "execution_count": 64,
   "id": "a0684431-cc92-43d2-b3f4-b3cbd27216fe",
   "metadata": {},
   "outputs": [],
   "source": [
    "srv_rerror_rate1, srv_rerror_rate2 = feature_scaling(X_train, X_test, 'srv_rerror_rate')"
   ]
  },
  {
   "cell_type": "code",
   "execution_count": 65,
   "id": "c0bf27f7-bf44-444e-bc50-a61f8a5d1818",
   "metadata": {},
   "outputs": [
    {
     "data": {
      "text/plain": [
       "array([-0.35039265])"
      ]
     },
     "execution_count": 65,
     "metadata": {},
     "output_type": "execute_result"
    }
   ],
   "source": [
    "srv_rerror_rate1[1]"
   ]
  },
  {
   "cell_type": "code",
   "execution_count": 66,
   "id": "240a29e5-352e-4bb0-aecc-d8f1d0bc1b22",
   "metadata": {},
   "outputs": [],
   "source": [
    "same_srv_rate1, same_srv_rate2 = feature_scaling(X_train, X_test, 'same_srv_rate')"
   ]
  },
  {
   "cell_type": "code",
   "execution_count": 67,
   "id": "02bc5132-b333-4824-a8e4-6d6d5c548304",
   "metadata": {},
   "outputs": [
    {
     "data": {
      "text/plain": [
       "array([0.77193037])"
      ]
     },
     "execution_count": 67,
     "metadata": {},
     "output_type": "execute_result"
    }
   ],
   "source": [
    "same_srv_rate1[1]"
   ]
  },
  {
   "cell_type": "code",
   "execution_count": 68,
   "id": "ebdf1453-736d-480a-b93d-72e6b4a1a98d",
   "metadata": {},
   "outputs": [],
   "source": [
    "diff_srv_rate1, diff_srv_rate2 = feature_scaling(X_train, X_test, 'diff_srv_rate')"
   ]
  },
  {
   "cell_type": "code",
   "execution_count": 69,
   "id": "ab670972-0a00-4150-bb9c-e900dfbf76c2",
   "metadata": {},
   "outputs": [
    {
     "data": {
      "text/plain": [
       "array([-0.33660747])"
      ]
     },
     "execution_count": 69,
     "metadata": {},
     "output_type": "execute_result"
    }
   ],
   "source": [
    "diff_srv_rate1[1]"
   ]
  },
  {
   "cell_type": "code",
   "execution_count": 70,
   "id": "92967f2f-864b-4475-bc5c-5aa8e37767ab",
   "metadata": {},
   "outputs": [],
   "source": [
    "srv_diff_host_rate1, srv_diff_host_rate2 = feature_scaling(X_train, X_test, 'srv_diff_host_rate')"
   ]
  },
  {
   "cell_type": "code",
   "execution_count": 71,
   "id": "ec5f93f4-f4e2-4fcc-bb6c-807a6ceee73c",
   "metadata": {},
   "outputs": [
    {
     "data": {
      "text/plain": [
       "array([-0.3856542])"
      ]
     },
     "execution_count": 71,
     "metadata": {},
     "output_type": "execute_result"
    }
   ],
   "source": [
    "srv_diff_host_rate1[1]"
   ]
  },
  {
   "cell_type": "code",
   "execution_count": 72,
   "id": "05ccda7c-0078-41d0-8e57-f2cee8785852",
   "metadata": {},
   "outputs": [],
   "source": [
    "dst_host_count1, dst_host_count2 = feature_scaling(X_train, X_test, 'dst_host_count')"
   ]
  },
  {
   "cell_type": "code",
   "execution_count": 73,
   "id": "8bafa0a7-f9cc-4ed4-a148-12e648fabb03",
   "metadata": {},
   "outputs": [
    {
     "data": {
      "text/plain": [
       "array([0.74106411])"
      ]
     },
     "execution_count": 73,
     "metadata": {},
     "output_type": "execute_result"
    }
   ],
   "source": [
    "dst_host_count1[1]"
   ]
  },
  {
   "cell_type": "code",
   "execution_count": 74,
   "id": "a1b1ef44-2ff4-4019-88c5-349387d49fd4",
   "metadata": {},
   "outputs": [],
   "source": [
    "dst_host_srv_count1, dst_host_srv_count2 = feature_scaling(X_train, X_test, 'dst_host_srv_count')"
   ]
  },
  {
   "cell_type": "code",
   "execution_count": 75,
   "id": "7e5295e6-70be-4489-80a7-0399a6626149",
   "metadata": {},
   "outputs": [
    {
     "data": {
      "text/plain": [
       "array([1.09085178])"
      ]
     },
     "execution_count": 75,
     "metadata": {},
     "output_type": "execute_result"
    }
   ],
   "source": [
    "dst_host_srv_count1[1]"
   ]
  },
  {
   "cell_type": "code",
   "execution_count": 76,
   "id": "64c4f1cf-3ac9-4888-bdcc-815df3d5c90d",
   "metadata": {},
   "outputs": [],
   "source": [
    "dst_host_same_srv_rate1, dst_host_same_srv_rate2= feature_scaling(X_train, X_test, 'dst_host_same_srv_rate')"
   ]
  },
  {
   "cell_type": "code",
   "execution_count": 77,
   "id": "749e2d76-c404-47e5-9bc4-1af6d9b6d6a3",
   "metadata": {},
   "outputs": [],
   "source": [
    "dst_host_diff_srv_rate1, dst_host_diff_srv_rate2 = feature_scaling(X_train, X_test, 'dst_host_diff_srv_rate')"
   ]
  },
  {
   "cell_type": "code",
   "execution_count": 78,
   "id": "c1f2ac9e-0d55-4b77-802f-a78c88b137ad",
   "metadata": {},
   "outputs": [],
   "source": [
    "dst_host_same_src_port_rate1, dst_host_same_src_port_rate2 = feature_scaling(X_train, X_test, 'dst_host_same_src_port_rate')"
   ]
  },
  {
   "cell_type": "code",
   "execution_count": 79,
   "id": "e8d64869-a38d-4ee3-b225-39e3426a515d",
   "metadata": {},
   "outputs": [
    {
     "data": {
      "text/plain": [
       "array([-0.38636499])"
      ]
     },
     "execution_count": 79,
     "metadata": {},
     "output_type": "execute_result"
    }
   ],
   "source": [
    "dst_host_same_src_port_rate1[1]"
   ]
  },
  {
   "cell_type": "code",
   "execution_count": 80,
   "id": "5d21d834-8739-4cf6-a10b-e50972afd4a1",
   "metadata": {},
   "outputs": [],
   "source": [
    "dst_host_srv_diff_host_rate1, dst_host_srv_diff_host_rate2 = feature_scaling(X_train, X_test, 'dst_host_srv_diff_host_rate')"
   ]
  },
  {
   "cell_type": "code",
   "execution_count": 81,
   "id": "34e92c8c-c4f4-44b9-b82e-2b1bfb0b7bfc",
   "metadata": {},
   "outputs": [
    {
     "data": {
      "text/plain": [
       "array([-0.3134176])"
      ]
     },
     "execution_count": 81,
     "metadata": {},
     "output_type": "execute_result"
    }
   ],
   "source": [
    "dst_host_srv_diff_host_rate1[1]"
   ]
  },
  {
   "cell_type": "code",
   "execution_count": 82,
   "id": "3cd06170-ddb0-4398-a1b4-f1d085bd647d",
   "metadata": {},
   "outputs": [],
   "source": [
    "dst_host_serror_rate1, dst_host_serror_rate2 = feature_scaling(X_train, X_test, 'dst_host_serror_rate')"
   ]
  },
  {
   "cell_type": "code",
   "execution_count": 83,
   "id": "f7193fa6-f9c6-412b-9324-d462159f16fd",
   "metadata": {},
   "outputs": [
    {
     "data": {
      "text/plain": [
       "array([-0.64541986])"
      ]
     },
     "execution_count": 83,
     "metadata": {},
     "output_type": "execute_result"
    }
   ],
   "source": [
    "dst_host_serror_rate1[1]"
   ]
  },
  {
   "cell_type": "code",
   "execution_count": 84,
   "id": "dd3a1bb8-56cb-4f61-862b-095c3450f42b",
   "metadata": {},
   "outputs": [],
   "source": [
    "dst_host_srv_serror_rate1, dst_host_srv_serror_rate2 = feature_scaling(X_train, X_test, 'dst_host_srv_serror_rate')"
   ]
  },
  {
   "cell_type": "code",
   "execution_count": 85,
   "id": "3541e56e-8b7b-4189-86ea-5536daa376a9",
   "metadata": {},
   "outputs": [],
   "source": [
    "dst_host_rerror_rate1, dst_host_rerror_rate2 = feature_scaling(X_train, X_test, 'dst_host_rerror_rate')"
   ]
  },
  {
   "cell_type": "code",
   "execution_count": 86,
   "id": "12649d72-6c8e-4d80-a40a-a8cd4089c33c",
   "metadata": {},
   "outputs": [],
   "source": [
    "dst_host_srv_rerror_rate1, dst_host_srv_rerror_rate2 = feature_scaling(X_train, X_test, 'dst_host_srv_rerror_rate')"
   ]
  },
  {
   "cell_type": "code",
   "execution_count": 87,
   "id": "efa912de-a0ea-4020-badf-6911e7286c6b",
   "metadata": {},
   "outputs": [
    {
     "data": {
      "text/plain": [
       "array([-0.35293996])"
      ]
     },
     "execution_count": 87,
     "metadata": {},
     "output_type": "execute_result"
    }
   ],
   "source": [
    "dst_host_srv_rerror_rate1[1]"
   ]
  },
  {
   "cell_type": "code",
   "execution_count": 88,
   "id": "758a263c-b4be-40a1-bd51-cfa04a488d7b",
   "metadata": {},
   "outputs": [],
   "source": [
    "num_failed_logins1, num_failed_logins2 = feature_scaling(X_train, X_test, 'num_failed_logins')"
   ]
  },
  {
   "cell_type": "code",
   "execution_count": 89,
   "id": "abe14bf7-6d06-4bbe-9887-baab440a80a0",
   "metadata": {},
   "outputs": [],
   "source": [
    "land1, land2 = np.array([X_train['land'].values]), np.array([X_test['land'].values])"
   ]
  },
  {
   "cell_type": "code",
   "execution_count": 90,
   "id": "8f10a9e7-75ea-43a0-b694-ce0feda8727b",
   "metadata": {},
   "outputs": [],
   "source": [
    "is_host_login1, is_host_login2 = np.array([X_train['is_host_login'].values]), np.array([X_test['is_host_login'].values])"
   ]
  },
  {
   "cell_type": "code",
   "execution_count": 91,
   "id": "acaa6f48-2858-4a68-bb29-81b2d8cdd2a7",
   "metadata": {},
   "outputs": [],
   "source": [
    "is_guest_login1, is_guest_login2 = np.array([X_train['is_guest_login'].values]), np.array([X_test['is_guest_login'].values])"
   ]
  },
  {
   "cell_type": "code",
   "execution_count": 92,
   "id": "9bf1a9e9-e9d3-4f88-b331-411b7bda13fe",
   "metadata": {},
   "outputs": [],
   "source": [
    "logged_in1, logged_in2 = np.array([X_train['logged_in'].values]), np.array([X_test['logged_in'].values])"
   ]
  },
  {
   "cell_type": "code",
   "execution_count": 93,
   "id": "3b0a88ab-484a-4f90-924c-381f6ca35aa3",
   "metadata": {},
   "outputs": [
    {
     "data": {
      "text/plain": [
       "(1, 109189)"
      ]
     },
     "execution_count": 93,
     "metadata": {},
     "output_type": "execute_result"
    }
   ],
   "source": [
    "logged_in1.shape"
   ]
  },
  {
   "cell_type": "code",
   "execution_count": 94,
   "id": "5b599ed4-06c3-4813-b5d7-78370e3db718",
   "metadata": {},
   "outputs": [],
   "source": [
    "count1, count2 = feature_scaling(X_train, X_test, 'count')"
   ]
  },
  {
   "cell_type": "code",
   "execution_count": 95,
   "id": "3c8812bb-486c-4fd6-aaa3-6bb4ee087836",
   "metadata": {},
   "outputs": [
    {
     "data": {
      "text/plain": [
       "array([-0.71140569])"
      ]
     },
     "execution_count": 95,
     "metadata": {},
     "output_type": "execute_result"
    }
   ],
   "source": [
    "count1[1]"
   ]
  },
  {
   "cell_type": "code",
   "execution_count": 96,
   "id": "50581eb8-5f46-4245-ab05-8d3867cd9de9",
   "metadata": {},
   "outputs": [],
   "source": [
    "dst_host_diff_srv_rate1, dst_host_diff_srv_rate2 = feature_scaling(X_train, X_test, 'dst_host_diff_srv_rate')"
   ]
  },
  {
   "cell_type": "code",
   "execution_count": 97,
   "id": "71da9b72-aa49-4d6e-b3f1-1ee784d2e9db",
   "metadata": {},
   "outputs": [
    {
     "data": {
      "text/plain": [
       "array([-0.41723695])"
      ]
     },
     "execution_count": 97,
     "metadata": {},
     "output_type": "execute_result"
    }
   ],
   "source": [
    "dst_host_diff_srv_rate1[1]"
   ]
  },
  {
   "cell_type": "code",
   "execution_count": null,
   "id": "1eb4b5b2-5978-4871-bcab-d55d0ca60ddb",
   "metadata": {},
   "outputs": [],
   "source": []
  },
  {
   "cell_type": "code",
   "execution_count": 98,
   "id": "91027f71-c974-4175-b77c-fe94b3bf774b",
   "metadata": {},
   "outputs": [],
   "source": [
    "from scipy.sparse import hstack"
   ]
  },
  {
   "cell_type": "code",
   "execution_count": 99,
   "id": "8958a959-dab1-4241-a469-0c79ed4eb078",
   "metadata": {},
   "outputs": [],
   "source": [
    "X_train_1 = hstack((duration1, train_protocol, train_service, train_flag, src_bytes1,\n",
    "       dst_bytes1, land1.T, wrong_fragment1, urgent1, hot1,\n",
    "       num_failed_logins1, logged_in1.T, num_compromised1, root_shell1,\n",
    "       su_attempted1, num_root1, num_file_creations1, num_shells1,\n",
    "       num_access_files1, is_host_login1.T,\n",
    "       is_guest_login1.T, count1, srv_count1, serror_rate1,\n",
    "       srv_serror_rate1, rerror_rate1, srv_rerror_rate1, same_srv_rate1,\n",
    "       diff_srv_rate1, srv_diff_host_rate1, dst_host_count1,\n",
    "       dst_host_srv_count1, dst_host_same_srv_rate1,\n",
    "       dst_host_diff_srv_rate1, dst_host_same_src_port_rate1,\n",
    "       dst_host_srv_diff_host_rate1, dst_host_serror_rate1,\n",
    "       dst_host_srv_serror_rate1, dst_host_rerror_rate1,\n",
    "       dst_host_srv_rerror_rate1))"
   ]
  },
  {
   "cell_type": "code",
   "execution_count": 100,
   "id": "f20abdd9-a328-4ae8-b0bd-73e05f764bd8",
   "metadata": {},
   "outputs": [
    {
     "data": {
      "text/plain": [
       "(109189, 114)"
      ]
     },
     "execution_count": 100,
     "metadata": {},
     "output_type": "execute_result"
    }
   ],
   "source": [
    "X_train_1.shape"
   ]
  },
  {
   "cell_type": "code",
   "execution_count": 101,
   "id": "a80642be-7a74-4c82-9bf6-b770ee374774",
   "metadata": {},
   "outputs": [],
   "source": [
    "X_test_1 = hstack((duration2, test_protocol, test_service, test_flag, src_bytes2,\n",
    "       dst_bytes2, land2.T, wrong_fragment2, urgent2, hot2,\n",
    "       num_failed_logins2, logged_in2.T, num_compromised2, root_shell2,\n",
    "       su_attempted2, num_root2, num_file_creations2, num_shells2,\n",
    "       num_access_files2, is_host_login2.T,\n",
    "       is_guest_login2.T, count2, srv_count2, serror_rate2,\n",
    "       srv_serror_rate2, rerror_rate2, srv_rerror_rate2, same_srv_rate2,\n",
    "       diff_srv_rate2, srv_diff_host_rate2, dst_host_count2,\n",
    "       dst_host_srv_count2, dst_host_same_srv_rate2,\n",
    "       dst_host_diff_srv_rate2, dst_host_same_src_port_rate2,\n",
    "       dst_host_srv_diff_host_rate2, dst_host_serror_rate2,\n",
    "       dst_host_srv_serror_rate2, dst_host_rerror_rate2,\n",
    "       dst_host_srv_rerror_rate2))"
   ]
  },
  {
   "cell_type": "code",
   "execution_count": 102,
   "id": "43d97ca3-9079-49dd-90a6-e36c5bb4bc70",
   "metadata": {},
   "outputs": [
    {
     "data": {
      "text/plain": [
       "(36397, 114)"
      ]
     },
     "execution_count": 102,
     "metadata": {},
     "output_type": "execute_result"
    }
   ],
   "source": [
    "X_test_1.shape"
   ]
  },
  {
   "cell_type": "code",
   "execution_count": 103,
   "id": "4a2a5639-b2a1-47b5-9ba7-24a33ff993d8",
   "metadata": {},
   "outputs": [],
   "source": [
    "import joblib\n",
    "joblib.dump(X_train_1,'X_train_1.pkl')\n",
    "joblib.dump(X_test_1,'X_test_1.pkl')\n",
    "X_train_1 = joblib.load('X_train_1.pkl')\n",
    "X_test_1 = joblib.load('X_test_1.pkl')"
   ]
  },
  {
   "cell_type": "code",
   "execution_count": 104,
   "id": "5769a973-a419-4e48-ba70-a31182d8ae1e",
   "metadata": {},
   "outputs": [],
   "source": [
    "joblib.dump(Y_train,'Y_train.pkl')\n",
    "joblib.dump(Y_test,'Y_test.pkl')\n",
    "Y_train = joblib.load('Y_train.pkl')\n",
    "Y_test = joblib.load('Y_test.pkl')"
   ]
  },
  {
   "cell_type": "code",
   "execution_count": 105,
   "id": "ee6c9e78-1a9b-468d-a01e-fd3ff77ac10a",
   "metadata": {},
   "outputs": [],
   "source": [
    "from sklearn.metrics import precision_score\n"
   ]
  },
  {
   "cell_type": "code",
   "execution_count": 106,
   "id": "d43f43f4-d702-46cd-a0ee-b9b5211ff40a",
   "metadata": {},
   "outputs": [],
   "source": [
    "def generate_random_individuals(population_size, num_features, min_features, max_features):\n",
    "    individuals = np.zeros((population_size, num_features))\n",
    "    for i in range(population_size):\n",
    "        num_ones = np.random.randint(min_features, max_features+1)\n",
    "        ones_indices = np.random.choice(num_features, num_ones, replace=False)\n",
    "        individuals[i, ones_indices] = 1\n",
    "    return individuals"
   ]
  },
  {
   "cell_type": "code",
   "execution_count": 155,
   "id": "251026be-18e1-4ee5-8a19-24bf556b7f3d",
   "metadata": {},
   "outputs": [],
   "source": [
    "# # 2.& 3.: Train model and get precision\n",
    "# def train_model(x_train, x_test, y_train, y_test, predictor_names):\n",
    "#     x_train = x_train.loc[:, predictor_names]\n",
    "#     x_test = x_test.loc[:, predictor_names]\n",
    "    \n",
    "#     #Building the random forest model \n",
    "#     mdl = RandomForestClassifier(random_state=1) #Creating the Random Forest Classifier Model\n",
    "#     mdl.fit(x_train, y_train)                    #Training the Model with x_train & y_train\n",
    "#     y_hat = mdl.predict(x_test)                  #Predicting the x_test \n",
    "#     prec = precision_score(y_test, y_hat)        #Precision: The best value is 1 and the worst value is 0.\n",
    "#     return prec\n",
    "\n",
    "import scipy\n",
    "\n",
    "from scipy.sparse import coo_matrix\n",
    "from sklearn.ensemble import RandomForestClassifier\n",
    "\n",
    "def train_model(x_train, x_test, y_train, y_test, predictor_names):\n",
    "    if isinstance(x_train, scipy.sparse.coo_matrix):\n",
    "        # If x_train is a sparse matrix, convert it to a dense format for RandomForestClassifier\n",
    "        x_train = x_train.todense()\n",
    "        x_test = x_test.todense()\n",
    "\n",
    "    # Convert predictor_names to a list of column indices\n",
    "    column_indices = [i for i, name in enumerate(x_train.columns) if name in predictor_names]\n",
    "\n",
    "    # Use the list of column indices for slicing\n",
    "    x_train = x_train[:, column_indices]\n",
    "    x_test = x_test[:, column_indices]\n",
    "\n",
    "    # Building the random forest model\n",
    "    model = RandomForestClassifier()\n",
    "    model.fit(x_train, y_train)\n",
    "\n",
    "    # Evaluate the model\n",
    "    accuracy = model.score(x_test, y_test)\n",
    "    return accuracy\n"
   ]
  },
  {
   "cell_type": "code",
   "execution_count": 108,
   "id": "4373f087-521c-4847-9950-b8134393b046",
   "metadata": {},
   "outputs": [],
   "source": [
    "def choose_parents(population,accuracy,elite_percent):\n",
    "    # Get elite of top 2 which doesn't mutate\n",
    "    elite_num = int(round(((elite_percent*population.shape[0]) // 2) * 2))\n",
    "    ind_ac = np.argsort(-accuracy)\n",
    "    top_perc = ind_ac[:elite_num]\n",
    "    elite_population = population[top_perc,:]   # We should keep this elite\n",
    "    \n",
    "    # Normalize accuracy to obtain weights for roulette wheel selection\n",
    "    weight_norm = accuracy / accuracy.sum()     # calculate normalised weight from accuracy\n",
    "    weight_comu = weight_norm.cumsum()          # calc cumulative weight from accuracy\n",
    "   \n",
    "    # Roulette wheel selection   \n",
    "    num_parents_wo_elite = population.shape[0] - elite_num\n",
    "    parents_wo_elite = np.empty([num_parents_wo_elite,population.shape[1]])\n",
    "    for count in range(num_parents_wo_elite):\n",
    "        b = weight_comu[-1]                         # current last element of weight_comu \n",
    "        rand_num = np.random.uniform(0,b)         # random foating-point number btw 0 and current max weight_comu\n",
    "        \n",
    "        indices = np.searchsorted(weight_comu,rand_num) # get indices of the number in weight_comu greater than rand_num\n",
    "        parents_wo_elite[count,:] = population[indices, :]\n",
    "        \n",
    "    parents = np.concatenate((elite_population, parents_wo_elite), axis=0)  # Concatenate elite and parents_wo_elite to get all parents\n",
    "    return parents"
   ]
  },
  {
   "cell_type": "code",
   "execution_count": 129,
   "id": "d3ea1e59-453c-498e-8857-c56a837c4198",
   "metadata": {},
   "outputs": [],
   "source": [
    "def one_point_crossover(parents,elite_percent,mutation_probability,min_features, max_features):\n",
    "    elite_num = int(round(((elite_percent*population.shape[0]) // 2) * 2))\n",
    "    crossover_population = np.zeros((parents.shape[0],parents.shape[1]))         # first two are elite\n",
    "    crossover_population[0:elite_num,:] = parents[0:elite_num,:]\n",
    "    \n",
    "    for ii in range(int((parents.shape[0]-elite_num)/2)):\n",
    "        n = 2*ii+elite_num                    # gives even number\n",
    "        parents_couple = parents[n:n+2, :]    # comb of parents\n",
    "        b2 = parents.shape[1]                 # num of features\n",
    "        rand_n = np.random.randint(1, b2-1)   # generate rand number from 1 to num_of_features-1\n",
    "        crossover_population[n,:] = np.concatenate([parents_couple[0, :rand_n], parents_couple[1, rand_n:]])\n",
    "        crossover_population[n+1,:] = np.concatenate([parents_couple[1, :rand_n], parents_couple[0, rand_n:]])\n",
    "        \n",
    "    #check if every child has minimum number of features or all true values\n",
    "    for kk in range(crossover_population.shape[0]):\n",
    "        Sum = np.sum(crossover_population[kk,:])\n",
    "        if Sum > max_features:\n",
    "            # if the number of 1s is bigger than max number of features\n",
    "            excess = int(Sum - max_features)\n",
    "            indices = np.where(crossover_population[kk,:] == 1)[0]\n",
    "            position1 = np.random.choice(indices, size=excess, replace=False)       \n",
    "            crossover_population[kk, position1] = 0 # put 0s in random positions\n",
    "        elif Sum < min_features:\n",
    "            # if the number of 1s is smaller than min number of features\n",
    "            missing = int(min_features - Sum)\n",
    "            indices = np.where(crossover_population[kk,:] == 0)[0]\n",
    "            position2 = np.random.choice(indices, size=missing, replace=False) \n",
    "            crossover_population[kk, position2] = 1 # put 1s in random positions\n",
    "\n",
    "    # mutation\n",
    "    child_row = crossover_population.shape[0]\n",
    "    child_col = crossover_population.shape[1]\n",
    "    num_mutations = round(child_row*child_col*mutation_probability)     \n",
    "    for jj in range(num_mutations):\n",
    "        ind_row = np.random.randint(0,child_row) # random number btw 0 and num of rows\n",
    "        ind_col = np.random.randint(0,child_col) # random number btw 0 and num of colmns\n",
    "        if (crossover_population[ind_row,ind_col] == 0 and \n",
    "            np.sum(crossover_population[ind_row,:]) < max_features):\n",
    "            crossover_population[ind_row,ind_col] = 1\n",
    "        elif (crossover_population[ind_row,ind_col] == 1 and \n",
    "              np.sum(crossover_population[ind_row,:]) >= min_features+1):\n",
    "            crossover_population[ind_row,ind_col] = 0 \n",
    "    \n",
    "    return crossover_population"
   ]
  },
  {
   "cell_type": "code",
   "execution_count": 130,
   "id": "9465d749-8294-4a41-a500-519b7cbdca6a",
   "metadata": {},
   "outputs": [],
   "source": [
    "# Extract calssification target\n",
    "target = data.loc[:, \"intrusion_type\"]\n",
    "# Convert the target variable to a binary representation (0 or 1)\n",
    "target = (target == \"normal.\").astype(int)\n",
    "# Extract all other columns except 'diagnosis' as predictors\n",
    "data_predictors = data.loc[:, data.columns != 'intrusion_type']\n",
    "# Create a list of predictor names\n",
    "predictor_names = data_predictors.columns"
   ]
  },
  {
   "cell_type": "code",
   "execution_count": 131,
   "id": "2d0bdccb-8789-4577-b81e-b432fbeb38e1",
   "metadata": {},
   "outputs": [],
   "source": [
    "# Hyperparameters\n",
    "num_features = data_predictor.shape[1]\n",
    "min_features = 2            # minimal number of features in a subset of features\n",
    "population_size = 8         # size of population (number of instances)\n",
    "max_iterations = 8          # maximum number of iterations\n",
    "elite_percent = 0.4         # percentage of elite population which doesn't mutate\n",
    "mutation_probability = 0.2  # percentage of total genes that mutate\n",
    "max_features = 4            # maximum number of features in a subset of features"
   ]
  },
  {
   "cell_type": "code",
   "execution_count": 156,
   "id": "dcc56398-6fab-4b24-b4e1-2abdbbee9737",
   "metadata": {},
   "outputs": [
    {
     "ename": "AttributeError",
     "evalue": "'matrix' object has no attribute 'columns'",
     "output_type": "error",
     "traceback": [
      "\u001b[1;31m---------------------------------------------------------------------------\u001b[0m",
      "\u001b[1;31mAttributeError\u001b[0m                            Traceback (most recent call last)",
      "Cell \u001b[1;32mIn[156], line 10\u001b[0m\n\u001b[0;32m      8\u001b[0m \u001b[38;5;28;01mfor\u001b[39;00m i \u001b[38;5;129;01min\u001b[39;00m \u001b[38;5;28mrange\u001b[39m(population_size):\n\u001b[0;32m      9\u001b[0m     predictor_names_i \u001b[38;5;241m=\u001b[39m predictor_names[population[i,:]\u001b[38;5;241m==\u001b[39m\u001b[38;5;241m1\u001b[39m]\n\u001b[1;32m---> 10\u001b[0m     accuracy_i \u001b[38;5;241m=\u001b[39m \u001b[43mtrain_model\u001b[49m\u001b[43m(\u001b[49m\u001b[43mX_train_1\u001b[49m\u001b[43m,\u001b[49m\u001b[43mX_test_1\u001b[49m\u001b[43m,\u001b[49m\u001b[43mY_train\u001b[49m\u001b[43m,\u001b[49m\u001b[43mY_test\u001b[49m\u001b[43m,\u001b[49m\u001b[43mpredictor_names_i\u001b[49m\u001b[43m)\u001b[49m\n\u001b[0;32m     11\u001b[0m     accuracy[i] \u001b[38;5;241m=\u001b[39m accuracy_i\n\u001b[0;32m     12\u001b[0m gen \u001b[38;5;241m=\u001b[39m \u001b[38;5;241m0\u001b[39m\n",
      "Cell \u001b[1;32mIn[155], line 25\u001b[0m, in \u001b[0;36mtrain_model\u001b[1;34m(x_train, x_test, y_train, y_test, predictor_names)\u001b[0m\n\u001b[0;32m     22\u001b[0m     x_test \u001b[38;5;241m=\u001b[39m x_test\u001b[38;5;241m.\u001b[39mtodense()\n\u001b[0;32m     24\u001b[0m \u001b[38;5;66;03m# Convert predictor_names to a list of column indices\u001b[39;00m\n\u001b[1;32m---> 25\u001b[0m column_indices \u001b[38;5;241m=\u001b[39m [i \u001b[38;5;28;01mfor\u001b[39;00m i, name \u001b[38;5;129;01min\u001b[39;00m \u001b[38;5;28menumerate\u001b[39m(\u001b[43mx_train\u001b[49m\u001b[38;5;241;43m.\u001b[39;49m\u001b[43mcolumns\u001b[49m) \u001b[38;5;28;01mif\u001b[39;00m name \u001b[38;5;129;01min\u001b[39;00m predictor_names]\n\u001b[0;32m     27\u001b[0m \u001b[38;5;66;03m# Use the list of column indices for slicing\u001b[39;00m\n\u001b[0;32m     28\u001b[0m x_train \u001b[38;5;241m=\u001b[39m x_train[:, column_indices]\n",
      "\u001b[1;31mAttributeError\u001b[0m: 'matrix' object has no attribute 'columns'"
     ]
    }
   ],
   "source": [
    "# Main loop - gen 0\n",
    "#1&2 generate population\n",
    "population = generate_random_individuals(population_size, num_features, min_features, max_features)   \n",
    "#3&4 train model\n",
    "accuracy = np.zeros(population_size);   \n",
    "predictor_names = data_predictor.columns\n",
    "response_name = target.name                                                 \n",
    "for i in range(population_size):\n",
    "    predictor_names_i = predictor_names[population[i,:]==1]\n",
    "    accuracy_i = train_model(X_train_1,X_test_1,Y_train,Y_test,predictor_names_i)\n",
    "    accuracy[i] = accuracy_i\n",
    "gen = 0\n",
    "best_acc_i = np.zeros(max_iterations)    \n",
    "best_acc_i[gen] = max(accuracy)     # keep best accuracy from 1st gen"
   ]
  },
  {
   "cell_type": "code",
   "execution_count": 151,
   "id": "507e1277-6e75-48ad-b47d-f87bda6545af",
   "metadata": {},
   "outputs": [],
   "source": [
    "# Main loop - gen > 0\n",
    "gen =7\n",
    "while gen < max_iterations-1:\n",
    "    print('Begin iteration num {}/{}'.format(gen+2,max_iterations))\n",
    "    gen += 1\n",
    "    parents = choose_parents(population, accuracy, elite_percent)\n",
    "    children = one_point_crossover(parents,elite_percent,mutation_probability,min_features,max_features)\n",
    "    population = children\n",
    "    for ind in range(population_size):\n",
    "        predictor_names_ind = predictor_names[population[ind,:]==1]\n",
    "        accuracy_ind = train_model(X_train_1,X_test_1,Y_train,Y_test,predictor_names_ind)\n",
    "        accuracy[ind] = accuracy_ind\n",
    "    best_acc_i[gen] = max(accuracy)\n",
    "    \n",
    "ind_max_acc = np.argmax(accuracy)\n",
    "best_features = population[ind_max_acc,:]"
   ]
  },
  {
   "cell_type": "code",
   "execution_count": 152,
   "id": "a7899700-5f5a-4af4-b977-f6874f5e22a1",
   "metadata": {},
   "outputs": [
    {
     "ename": "NameError",
     "evalue": "name 'best_acc_i' is not defined",
     "output_type": "error",
     "traceback": [
      "\u001b[1;31m---------------------------------------------------------------------------\u001b[0m",
      "\u001b[1;31mNameError\u001b[0m                                 Traceback (most recent call last)",
      "Cell \u001b[1;32mIn[152], line 3\u001b[0m\n\u001b[0;32m      1\u001b[0m \u001b[38;5;66;03m# Plots - Post-processing\u001b[39;00m\n\u001b[0;32m      2\u001b[0m best_features_names \u001b[38;5;241m=\u001b[39m predictor_names[best_features\u001b[38;5;241m==\u001b[39m\u001b[38;5;241m1\u001b[39m]\n\u001b[1;32m----> 3\u001b[0m plt\u001b[38;5;241m.\u001b[39mplot(\u001b[38;5;28mrange\u001b[39m(\u001b[38;5;241m1\u001b[39m, max_iterations \u001b[38;5;241m+\u001b[39m \u001b[38;5;241m1\u001b[39m), \u001b[43mbest_acc_i\u001b[49m)\n\u001b[0;32m      4\u001b[0m plt\u001b[38;5;241m.\u001b[39mxlabel(\u001b[38;5;124m'\u001b[39m\u001b[38;5;124mNumber of generations\u001b[39m\u001b[38;5;124m'\u001b[39m)\n\u001b[0;32m      5\u001b[0m plt\u001b[38;5;241m.\u001b[39mylabel(\u001b[38;5;124m'\u001b[39m\u001b[38;5;124mBest accuracy\u001b[39m\u001b[38;5;124m'\u001b[39m)\n",
      "\u001b[1;31mNameError\u001b[0m: name 'best_acc_i' is not defined"
     ]
    }
   ],
   "source": [
    "# Plots - Post-processing\n",
    "best_features_names = predictor_names[best_features==1]\n",
    "plt.plot(range(1, max_iterations + 1), best_acc_i)\n",
    "plt.xlabel('Number of generations')\n",
    "plt.ylabel('Best accuracy')\n",
    "plt.title('Genetic algorithm')\n",
    "plt.show()"
   ]
  },
  {
   "cell_type": "markdown",
   "id": "acb4d088-138f-4d2c-8c4b-d01864a281b1",
   "metadata": {},
   "source": [
    "=========================================================================================="
   ]
  },
  {
   "cell_type": "code",
   "execution_count": 158,
   "id": "212946d6-c353-4fad-aa21-f269fd3146df",
   "metadata": {},
   "outputs": [],
   "source": [
    "import numpy as np\n",
    "import pandas as pd\n",
    "import seaborn as sns\n",
    "import matplotlib.pyplot as plt\n",
    "from random import randint\n",
    "%matplotlib inline \n",
    "import warnings\n",
    "warnings.filterwarnings(\"ignore\")\n",
    "\n",
    "from sklearn.model_selection import train_test_split\n",
    "def split(df,label):\n",
    "    X_tr, X_te, Y_tr, Y_te = train_test_split(df, label, test_size=0.25, random_state=42)\n",
    "    return X_tr, X_te, Y_tr, Y_te\n",
    "\n",
    "from sklearn import svm\n",
    "from sklearn.linear_model import LogisticRegression\n",
    "from sklearn.ensemble import RandomForestClassifier, AdaBoostClassifier\n",
    "from sklearn.tree import DecisionTreeClassifier\n",
    "from sklearn.neighbors import KNeighborsClassifier\n",
    "from sklearn.ensemble import GradientBoostingClassifier\n",
    "from sklearn import metrics\n",
    "from sklearn.metrics import accuracy_score\n",
    "from sklearn.model_selection import KFold, cross_val_score\n",
    "\n",
    "classifiers = ['LinearSVM', 'RadialSVM', \n",
    "               'Logistic',  'RandomForest', \n",
    "               'AdaBoost',  'DecisionTree', \n",
    "               'KNeighbors','GradientBoosting']\n",
    "\n",
    "models = [svm.SVC(kernel='linear'),\n",
    "          svm.SVC(kernel='rbf'),\n",
    "          LogisticRegression(max_iter = 1000),\n",
    "          RandomForestClassifier(n_estimators=200, random_state=0),\n",
    "          AdaBoostClassifier(random_state = 0),\n",
    "          DecisionTreeClassifier(random_state=0),\n",
    "          KNeighborsClassifier(),\n",
    "          GradientBoostingClassifier(random_state=0)]\n",
    "\n",
    "\n",
    "def acc_score(df,label):\n",
    "    Score = pd.DataFrame({\"Classifier\":classifiers})\n",
    "    j = 0\n",
    "    acc = []\n",
    "    X_train,X_test,Y_train,Y_test = split(df,label)\n",
    "    for i in models:\n",
    "        model = i\n",
    "        model.fit(X_train,Y_train)\n",
    "        predictions = model.predict(X_test)\n",
    "        acc.append(accuracy_score(Y_test,predictions))\n",
    "        j = j+1     \n",
    "    Score[\"Accuracy\"] = acc\n",
    "    Score.sort_values(by=\"Accuracy\", ascending=False,inplace = True)\n",
    "    Score.reset_index(drop=True, inplace=True)\n",
    "    return Score\n",
    "\n",
    "def plot(score,x,y,c = \"b\"):\n",
    "    gen = [1,2,3,4,5]\n",
    "    plt.figure(figsize=(6,4))\n",
    "    ax = sns.pointplot(x=gen, y=score,color = c )\n",
    "    ax.set(xlabel=\"Generation\", ylabel=\"Accuracy\")\n",
    "    ax.set(ylim=(x,y))\n"
   ]
  },
  {
   "cell_type": "code",
   "execution_count": 159,
   "id": "7b5c2f46-8a27-493f-bbc9-8b000bc09a33",
   "metadata": {},
   "outputs": [],
   "source": [
    "def initilization_of_population(size,n_feat):\n",
    "    population = []\n",
    "    for i in range(size):\n",
    "        chromosome = np.ones(n_feat,dtype=np.bool)     \n",
    "        chromosome[:int(0.3*n_feat)]=False             \n",
    "        np.random.shuffle(chromosome)\n",
    "        population.append(chromosome)\n",
    "    return population\n",
    "\n",
    "\n",
    "def fitness_score(population):\n",
    "    scores = []\n",
    "    for chromosome in population:\n",
    "        logmodel.fit(X_train.iloc[:,chromosome],Y_train)         \n",
    "        predictions = logmodel.predict(X_test.iloc[:,chromosome])\n",
    "        scores.append(accuracy_score(Y_test,predictions))\n",
    "    scores, population = np.array(scores), np.array(population) \n",
    "    inds = np.argsort(scores)                                    \n",
    "    return list(scores[inds][::-1]), list(population[inds,:][::-1]) \n",
    "\n",
    "\n",
    "def selection(pop_after_fit,n_parents):\n",
    "    population_nextgen = []\n",
    "    for i in range(n_parents):\n",
    "        population_nextgen.append(pop_after_fit[i])\n",
    "    return population_nextgen\n",
    "\n",
    "\n",
    "def crossover(pop_after_sel):\n",
    "    pop_nextgen = pop_after_sel\n",
    "    for i in range(0,len(pop_after_sel),2):\n",
    "        new_par = []\n",
    "        child_1 , child_2 = pop_nextgen[i] , pop_nextgen[i+1]\n",
    "        new_par = np.concatenate((child_1[:len(child_1)//2],child_2[len(child_1)//2:]))\n",
    "        pop_nextgen.append(new_par)\n",
    "    return pop_nextgen\n",
    "\n",
    "\n",
    "def mutation(pop_after_cross,mutation_rate,n_feat):   \n",
    "    mutation_range = int(mutation_rate*n_feat)\n",
    "    pop_next_gen = []\n",
    "    for n in range(0,len(pop_after_cross)):\n",
    "        chromo = pop_after_cross[n]\n",
    "        rand_posi = [] \n",
    "        for i in range(0,mutation_range):\n",
    "            pos = randint(0,n_feat-1)\n",
    "            rand_posi.append(pos)\n",
    "        for j in rand_posi:\n",
    "            chromo[j] = not chromo[j]  \n",
    "        pop_next_gen.append(chromo)\n",
    "    return pop_next_gen\n",
    "\n",
    "def generations(df,label,size,n_feat,n_parents,mutation_rate,n_gen,X_train,\n",
    "                                   X_test, Y_train, Y_test):\n",
    "    best_chromo= []\n",
    "    best_score= []\n",
    "    population_nextgen=initilization_of_population(size,n_feat)\n",
    "    for i in range(n_gen):\n",
    "        scores, pop_after_fit = fitness_score(population_nextgen)\n",
    "        print('Best score in generation',i+1,':',scores[:1])  #2\n",
    "        pop_after_sel = selection(pop_after_fit,n_parents)\n",
    "        pop_after_cross = crossover(pop_after_sel)\n",
    "        population_nextgen = mutation(pop_after_cross,mutation_rate,n_feat)\n",
    "        best_chromo.append(pop_after_fit[0])\n",
    "        best_score.append(scores[0])\n",
    "    return best_chromo,best_score\n"
   ]
  },
  {
   "cell_type": "code",
   "execution_count": 168,
   "id": "c00e8a24-b156-4afc-9bef-a34fa5907b39",
   "metadata": {},
   "outputs": [],
   "source": [
    "from scipy.sparse import vstack\n",
    "\n",
    "data_pcos = vstack([X_train_1, X_test_1])\n",
    "label_pcos = np.hstack([Y_train, Y_test])\n"
   ]
  },
  {
   "cell_type": "code",
   "execution_count": null,
   "id": "a5d24a67-2c8a-4eb0-9a95-c6bc3957360d",
   "metadata": {},
   "outputs": [],
   "source": [
    "# score4 = acc_score(data_pcos,label_pcos)\n",
    "# score4"
   ]
  },
  {
   "cell_type": "code",
   "execution_count": null,
   "id": "29d6fef3-faa6-4a99-b352-335f2f753e63",
   "metadata": {},
   "outputs": [],
   "source": [
    "logmodel = RandomForestClassifier(n_estimators=200, random_state=0)\n",
    "X_train,X_test, Y_train, Y_test = split(data_pcos,label_pcos)\n",
    "chromo_df_pcos,score_pcos=generations(data_pcos,label_pcos,size=80,n_feat=data_pcos.shape[1],n_parents=64,mutation_rate=0.20,n_gen=5,\n",
    "                         X_train = X_train,X_test = X_test,Y_train = Y_train,Y_test = Y_test)"
   ]
  },
  {
   "cell_type": "code",
   "execution_count": null,
   "id": "52fad653-d61a-4163-8ae8-d005fed80f1d",
   "metadata": {},
   "outputs": [],
   "source": []
  }
 ],
 "metadata": {
  "kernelspec": {
   "display_name": "Python 3 (ipykernel)",
   "language": "python",
   "name": "python3"
  },
  "language_info": {
   "codemirror_mode": {
    "name": "ipython",
    "version": 3
   },
   "file_extension": ".py",
   "mimetype": "text/x-python",
   "name": "python",
   "nbconvert_exporter": "python",
   "pygments_lexer": "ipython3",
   "version": "3.11.5"
  }
 },
 "nbformat": 4,
 "nbformat_minor": 5
}
